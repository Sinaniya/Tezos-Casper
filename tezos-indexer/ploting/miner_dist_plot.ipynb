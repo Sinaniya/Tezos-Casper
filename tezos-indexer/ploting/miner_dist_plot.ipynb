{
 "cells": [
  {
   "cell_type": "code",
   "execution_count": 1,
   "metadata": {},
   "outputs": [],
   "source": [
    "# This is query for the Miners Distance template\n",
    "import pandas as pd\n",
    "import glob\n",
    "import matplotlib.pyplot as plt"
   ]
  },
  {
   "cell_type": "code",
   "execution_count": 2,
   "metadata": {},
   "outputs": [],
   "source": [
    "# Path for all the results\n",
    "path=\"/mnt/indexer-build/migrated_data/curated/miner_dist/\""
   ]
  },
  {
   "cell_type": "code",
   "execution_count": 3,
   "metadata": {},
   "outputs": [],
   "source": [
    "def extractorYear(year):\n",
    "    return(int(str(year)[:4]))\n",
    "\n",
    "def extractorWeek(year):\n",
    "    return(int(str(year)[4:]))"
   ]
  },
  {
   "cell_type": "code",
   "execution_count": 4,
   "metadata": {},
   "outputs": [],
   "source": [
    "all_files = glob.glob(path + \"/*.csv\")\n",
    "\n",
    "li = []\n",
    "\n",
    "for filename in all_files:\n",
    "    df = pd.read_csv(filename, index_col=None, header=0)\n",
    "    li.append(df)\n",
    "\n",
    "frame = pd.concat(li, axis=0, ignore_index=True)"
   ]
  },
  {
   "cell_type": "code",
   "execution_count": 5,
   "metadata": {},
   "outputs": [
    {
     "data": {
      "text/html": [
       "<div>\n",
       "<style scoped>\n",
       "    .dataframe tbody tr th:only-of-type {\n",
       "        vertical-align: middle;\n",
       "    }\n",
       "\n",
       "    .dataframe tbody tr th {\n",
       "        vertical-align: top;\n",
       "    }\n",
       "\n",
       "    .dataframe thead th {\n",
       "        text-align: right;\n",
       "    }\n",
       "</style>\n",
       "<table border=\"1\" class=\"dataframe\">\n",
       "  <thead>\n",
       "    <tr style=\"text-align: right;\">\n",
       "      <th></th>\n",
       "      <th>id</th>\n",
       "      <th>distances</th>\n",
       "      <th>year_week</th>\n",
       "      <th>norm_balance</th>\n",
       "    </tr>\n",
       "  </thead>\n",
       "  <tbody>\n",
       "    <tr>\n",
       "      <th>0</th>\n",
       "      <td>13505</td>\n",
       "      <td>4</td>\n",
       "      <td>20191</td>\n",
       "      <td>6.479437e-10</td>\n",
       "    </tr>\n",
       "    <tr>\n",
       "      <th>1</th>\n",
       "      <td>14257</td>\n",
       "      <td>5</td>\n",
       "      <td>20191</td>\n",
       "      <td>1.369859e-06</td>\n",
       "    </tr>\n",
       "    <tr>\n",
       "      <th>2</th>\n",
       "      <td>15000</td>\n",
       "      <td>3</td>\n",
       "      <td>20191</td>\n",
       "      <td>8.975931e-03</td>\n",
       "    </tr>\n",
       "    <tr>\n",
       "      <th>3</th>\n",
       "      <td>16767</td>\n",
       "      <td>2</td>\n",
       "      <td>20191</td>\n",
       "      <td>1.328760e-07</td>\n",
       "    </tr>\n",
       "    <tr>\n",
       "      <th>4</th>\n",
       "      <td>16832</td>\n",
       "      <td>4</td>\n",
       "      <td>20191</td>\n",
       "      <td>2.821376e-05</td>\n",
       "    </tr>\n",
       "    <tr>\n",
       "      <th>5</th>\n",
       "      <td>22144</td>\n",
       "      <td>2</td>\n",
       "      <td>20191</td>\n",
       "      <td>1.296344e-09</td>\n",
       "    </tr>\n",
       "    <tr>\n",
       "      <th>6</th>\n",
       "      <td>32292</td>\n",
       "      <td>5</td>\n",
       "      <td>20191</td>\n",
       "      <td>3.652955e-07</td>\n",
       "    </tr>\n",
       "    <tr>\n",
       "      <th>7</th>\n",
       "      <td>37684</td>\n",
       "      <td>1</td>\n",
       "      <td>20191</td>\n",
       "      <td>1.439377e-05</td>\n",
       "    </tr>\n",
       "  </tbody>\n",
       "</table>\n",
       "</div>"
      ],
      "text/plain": [
       "      id  distances  year_week  norm_balance\n",
       "0  13505          4      20191  6.479437e-10\n",
       "1  14257          5      20191  1.369859e-06\n",
       "2  15000          3      20191  8.975931e-03\n",
       "3  16767          2      20191  1.328760e-07\n",
       "4  16832          4      20191  2.821376e-05\n",
       "5  22144          2      20191  1.296344e-09\n",
       "6  32292          5      20191  3.652955e-07\n",
       "7  37684          1      20191  1.439377e-05"
      ]
     },
     "execution_count": 5,
     "metadata": {},
     "output_type": "execute_result"
    }
   ],
   "source": [
    "frame.iloc[0:8,:]"
   ]
  },
  {
   "cell_type": "code",
   "execution_count": 6,
   "metadata": {},
   "outputs": [],
   "source": [
    "start = 0\n",
    "end = 8 \n",
    "\n",
    "mean = frame.groupby('distances')['norm_balance'].mean()[start:end]\n",
    "std = frame.groupby('distances')['norm_balance'].std()[start:end]\n",
    "p025 = frame.groupby('distances')['norm_balance'].quantile(0.025)[start:end]\n",
    "p975 = frame.groupby('distances')['norm_balance'].quantile(0.975)[start:end]"
   ]
  },
  {
   "cell_type": "code",
   "execution_count": 9,
   "metadata": {},
   "outputs": [
    {
     "data": {
      "image/png": "[encoded data removed]",
      "text/plain": [
       "<Figure size 640x480 with 1 Axes>"
      ]
     },
     "metadata": {},
     "output_type": "display_data"
    },
    {
     "data": {
      "text/plain": [
       "<Figure size 1200x700 with 0 Axes>"
      ]
     },
     "metadata": {},
     "output_type": "display_data"
    }
   ],
   "source": [
    "from cmath import log\n",
    "import numpy as np\n",
    "\n",
    "plt.errorbar(\n",
    "    mean.index,\n",
    "    mean,\n",
    "    xerr=0.1,\n",
    "    # yerr= [mean - p025, p975 - mean],\n",
    "    # yerr=[np.log(1+(mean-p025)), np.log(1+(p975-mean))],\n",
    "    yerr = std*2,\n",
    "    linestyle='',\n",
    ")\n",
    "plt.ylim([0.1,-0.1])\n",
    "plt.xlabel(\"Distance from nearest miner\")\n",
    "plt.ylabel(\"Wealth Share\")\n",
    "plt.figure(figsize=(12,7))\n",
    "plt.show()\n"
   ]
  },
  {
   "cell_type": "code",
   "execution_count": null,
   "metadata": {},
   "outputs": [],
   "source": []
  }
 ],
 "metadata": {
  "kernelspec": {
   "display_name": "Python 3.8.10 64-bit",
   "language": "python",
   "name": "python3"
  },
  "language_info": {
   "codemirror_mode": {
    "name": "ipython",
    "version": 3
   },
   "file_extension": ".py",
   "mimetype": "text/x-python",
   "name": "python",
   "nbconvert_exporter": "python",
   "pygments_lexer": "ipython3",
   "version": "3.8.10"
  },
  "orig_nbformat": 4,
  "vscode": {
   "interpreter": {
    "hash": "31f2aee4e71d21fbe5cf8b01ff0e069b9275f58929596ceb00d14d90e3e16cd6"
   }
  }
 },
 "nbformat": 4,
 "nbformat_minor": 2
}

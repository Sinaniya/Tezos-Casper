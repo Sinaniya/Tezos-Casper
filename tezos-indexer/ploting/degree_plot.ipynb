{
 "cells": [
  {
   "cell_type": "code",
   "execution_count": 1,
   "metadata": {},
   "outputs": [],
   "source": [
    "# This is query for the Gini Coefficient template\n",
    "import pandas as pd\n",
    "import glob\n",
    "import matplotlib.pyplot as plt"
   ]
  },
  {
   "cell_type": "code",
   "execution_count": 2,
   "metadata": {},
   "outputs": [],
   "source": [
    "# Path for all the results\n",
    "path=\"/mnt/indexer-build/migrated_data/curated/weekly_degree/\""
   ]
  },
  {
   "cell_type": "code",
   "execution_count": 3,
   "metadata": {},
   "outputs": [],
   "source": [
    "def extractorYear(year):\n",
    "    return(int(str(year)[:4]))"
   ]
  },
  {
   "cell_type": "code",
   "execution_count": 4,
   "metadata": {},
   "outputs": [],
   "source": [
    "def extractorWeek(year):\n",
    "    return(int(str(year)[4:]))"
   ]
  },
  {
   "cell_type": "code",
   "execution_count": 7,
   "metadata": {},
   "outputs": [],
   "source": [
    "all_files = glob.glob(path + \"/*.csv\")\n",
    "\n",
    "li = []\n",
    "\n",
    "for filename in all_files:\n",
    "    df = pd.read_csv(filename, index_col=None, header=0)\n",
    "    li.append(df)\n",
    "\n",
    "frame = pd.concat(li, axis=0, ignore_index=True)"
   ]
  },
  {
   "cell_type": "code",
   "execution_count": 8,
   "metadata": {},
   "outputs": [
    {
     "data": {
      "text/html": [
       "<div>\n",
       "<style scoped>\n",
       "    .dataframe tbody tr th:only-of-type {\n",
       "        vertical-align: middle;\n",
       "    }\n",
       "\n",
       "    .dataframe tbody tr th {\n",
       "        vertical-align: top;\n",
       "    }\n",
       "\n",
       "    .dataframe thead th {\n",
       "        text-align: right;\n",
       "    }\n",
       "</style>\n",
       "<table border=\"1\" class=\"dataframe\">\n",
       "  <thead>\n",
       "    <tr style=\"text-align: right;\">\n",
       "      <th></th>\n",
       "      <th>Year_no</th>\n",
       "      <th>Week_no</th>\n",
       "      <th>SenderId</th>\n",
       "      <th>TargetCount</th>\n",
       "      <th>Sum_Amount</th>\n",
       "    </tr>\n",
       "  </thead>\n",
       "  <tbody>\n",
       "    <tr>\n",
       "      <th>0</th>\n",
       "      <td>2020</td>\n",
       "      <td>43</td>\n",
       "      <td>277134</td>\n",
       "      <td>2</td>\n",
       "      <td>6010000000</td>\n",
       "    </tr>\n",
       "    <tr>\n",
       "      <th>1</th>\n",
       "      <td>2021</td>\n",
       "      <td>19</td>\n",
       "      <td>1415085</td>\n",
       "      <td>1</td>\n",
       "      <td>103620000</td>\n",
       "    </tr>\n",
       "    <tr>\n",
       "      <th>2</th>\n",
       "      <td>2022</td>\n",
       "      <td>18</td>\n",
       "      <td>1940083</td>\n",
       "      <td>6</td>\n",
       "      <td>1000000</td>\n",
       "    </tr>\n",
       "    <tr>\n",
       "      <th>3</th>\n",
       "      <td>2020</td>\n",
       "      <td>33</td>\n",
       "      <td>715797</td>\n",
       "      <td>5</td>\n",
       "      <td>2132658179</td>\n",
       "    </tr>\n",
       "    <tr>\n",
       "      <th>4</th>\n",
       "      <td>2021</td>\n",
       "      <td>21</td>\n",
       "      <td>1482677</td>\n",
       "      <td>2</td>\n",
       "      <td>100000000</td>\n",
       "    </tr>\n",
       "    <tr>\n",
       "      <th>...</th>\n",
       "      <td>...</td>\n",
       "      <td>...</td>\n",
       "      <td>...</td>\n",
       "      <td>...</td>\n",
       "      <td>...</td>\n",
       "    </tr>\n",
       "    <tr>\n",
       "      <th>3045209</th>\n",
       "      <td>2022</td>\n",
       "      <td>30</td>\n",
       "      <td>1839622</td>\n",
       "      <td>1</td>\n",
       "      <td>80000000</td>\n",
       "    </tr>\n",
       "    <tr>\n",
       "      <th>3045210</th>\n",
       "      <td>2022</td>\n",
       "      <td>2</td>\n",
       "      <td>2371288</td>\n",
       "      <td>1</td>\n",
       "      <td>2100000</td>\n",
       "    </tr>\n",
       "    <tr>\n",
       "      <th>3045211</th>\n",
       "      <td>2022</td>\n",
       "      <td>24</td>\n",
       "      <td>2634411</td>\n",
       "      <td>1</td>\n",
       "      <td>4000000</td>\n",
       "    </tr>\n",
       "    <tr>\n",
       "      <th>3045212</th>\n",
       "      <td>2022</td>\n",
       "      <td>31</td>\n",
       "      <td>2895292</td>\n",
       "      <td>1</td>\n",
       "      <td>7822000</td>\n",
       "    </tr>\n",
       "    <tr>\n",
       "      <th>3045213</th>\n",
       "      <td>2022</td>\n",
       "      <td>33</td>\n",
       "      <td>2906324</td>\n",
       "      <td>1</td>\n",
       "      <td>24629200</td>\n",
       "    </tr>\n",
       "  </tbody>\n",
       "</table>\n",
       "<p>3045214 rows × 5 columns</p>\n",
       "</div>"
      ],
      "text/plain": [
       "         Year_no  Week_no  SenderId  TargetCount  Sum_Amount\n",
       "0           2020       43    277134            2  6010000000\n",
       "1           2021       19   1415085            1   103620000\n",
       "2           2022       18   1940083            6     1000000\n",
       "3           2020       33    715797            5  2132658179\n",
       "4           2021       21   1482677            2   100000000\n",
       "...          ...      ...       ...          ...         ...\n",
       "3045209     2022       30   1839622            1    80000000\n",
       "3045210     2022        2   2371288            1     2100000\n",
       "3045211     2022       24   2634411            1     4000000\n",
       "3045212     2022       31   2895292            1     7822000\n",
       "3045213     2022       33   2906324            1    24629200\n",
       "\n",
       "[3045214 rows x 5 columns]"
      ]
     },
     "execution_count": 8,
     "metadata": {},
     "output_type": "execute_result"
    }
   ],
   "source": [
    "frame"
   ]
  },
  {
   "cell_type": "code",
   "execution_count": 22,
   "metadata": {},
   "outputs": [],
   "source": [
    "frame[\"year\"]=frame.Year_no\t\n",
    "frame[\"week\"]=frame.Week_no"
   ]
  },
  {
   "cell_type": "code",
   "execution_count": 23,
   "metadata": {},
   "outputs": [],
   "source": [
    "# frame[\"year\"]=frame.time_week.apply(extractorYear)\n",
    "# frame[\"week\"]=frame.time_week.apply(extractorWeek)\n",
    "final = frame.sort_values(by=['year','week'])"
   ]
  },
  {
   "cell_type": "code",
   "execution_count": 28,
   "metadata": {},
   "outputs": [],
   "source": [
    "extra = final[((final.year == 2018) & (final.week < 26)) | ((final.year == 2022) & (final.week > 34))]\n",
    "df = pd.merge(final, extra, indicator=True, how='outer').query('_merge==\"left_only\"').drop('_merge', axis=1)"
   ]
  },
  {
   "cell_type": "code",
   "execution_count": 30,
   "metadata": {},
   "outputs": [
    {
     "data": {
      "text/plain": [
       "<matplotlib.legend.Legend at 0x7f06069e7190>"
      ]
     },
     "execution_count": 30,
     "metadata": {},
     "output_type": "execute_result"
    },
    {
     "data": {
      "image/png": "[encoded data removed]",
      "text/plain": [
       "<Figure size 1200x700 with 1 Axes>"
      ]
     },
     "metadata": {},
     "output_type": "display_data"
    }
   ],
   "source": [
    "# Determine the date\n",
    "df['date'] = pd.to_datetime(df.assign(day=1, month=1)[['year', 'month', 'day']])+pd.to_timedelta(df.week*7, unit='days')\n",
    "\n",
    "# Plot\n",
    "fig, ax = plt.subplots()\n",
    "df.plot(x='date', y='TargetCount', ax=ax, figsize=(12,7))\n",
    "ax.set_xlabel('Years')\n",
    "ax.set_ylabel('Degree')\n",
    "ax.legend(['Degree'])"
   ]
  },
  {
   "cell_type": "code",
   "execution_count": 24,
   "metadata": {},
   "outputs": [
    {
     "data": {
      "text/html": [
       "<div>\n",
       "<style scoped>\n",
       "    .dataframe tbody tr th:only-of-type {\n",
       "        vertical-align: middle;\n",
       "    }\n",
       "\n",
       "    .dataframe tbody tr th {\n",
       "        vertical-align: top;\n",
       "    }\n",
       "\n",
       "    .dataframe thead th {\n",
       "        text-align: right;\n",
       "    }\n",
       "</style>\n",
       "<table border=\"1\" class=\"dataframe\">\n",
       "  <thead>\n",
       "    <tr style=\"text-align: right;\">\n",
       "      <th></th>\n",
       "      <th>Year_no</th>\n",
       "      <th>Week_no</th>\n",
       "      <th>SenderId</th>\n",
       "      <th>TargetCount</th>\n",
       "      <th>Sum_Amount</th>\n",
       "      <th>year</th>\n",
       "      <th>week</th>\n",
       "    </tr>\n",
       "  </thead>\n",
       "  <tbody>\n",
       "    <tr>\n",
       "      <th>4002</th>\n",
       "      <td>2018</td>\n",
       "      <td>1</td>\n",
       "      <td>23518</td>\n",
       "      <td>49</td>\n",
       "      <td>152970000</td>\n",
       "      <td>2018</td>\n",
       "      <td>1</td>\n",
       "    </tr>\n",
       "    <tr>\n",
       "      <th>4003</th>\n",
       "      <td>2018</td>\n",
       "      <td>1</td>\n",
       "      <td>40514</td>\n",
       "      <td>1</td>\n",
       "      <td>149998000</td>\n",
       "      <td>2018</td>\n",
       "      <td>1</td>\n",
       "    </tr>\n",
       "    <tr>\n",
       "      <th>114542</th>\n",
       "      <td>2018</td>\n",
       "      <td>1</td>\n",
       "      <td>254280</td>\n",
       "      <td>1</td>\n",
       "      <td>15462983204</td>\n",
       "      <td>2018</td>\n",
       "      <td>1</td>\n",
       "    </tr>\n",
       "    <tr>\n",
       "      <th>119866</th>\n",
       "      <td>2018</td>\n",
       "      <td>1</td>\n",
       "      <td>255349</td>\n",
       "      <td>1</td>\n",
       "      <td>3198580</td>\n",
       "      <td>2018</td>\n",
       "      <td>1</td>\n",
       "    </tr>\n",
       "    <tr>\n",
       "      <th>141521</th>\n",
       "      <td>2018</td>\n",
       "      <td>1</td>\n",
       "      <td>22484</td>\n",
       "      <td>1</td>\n",
       "      <td>5724049</td>\n",
       "      <td>2018</td>\n",
       "      <td>1</td>\n",
       "    </tr>\n",
       "    <tr>\n",
       "      <th>...</th>\n",
       "      <td>...</td>\n",
       "      <td>...</td>\n",
       "      <td>...</td>\n",
       "      <td>...</td>\n",
       "      <td>...</td>\n",
       "      <td>...</td>\n",
       "      <td>...</td>\n",
       "    </tr>\n",
       "    <tr>\n",
       "      <th>3044363</th>\n",
       "      <td>2022</td>\n",
       "      <td>52</td>\n",
       "      <td>1486087</td>\n",
       "      <td>1</td>\n",
       "      <td>1933597</td>\n",
       "      <td>2022</td>\n",
       "      <td>52</td>\n",
       "    </tr>\n",
       "    <tr>\n",
       "      <th>3044525</th>\n",
       "      <td>2022</td>\n",
       "      <td>52</td>\n",
       "      <td>2309860</td>\n",
       "      <td>1</td>\n",
       "      <td>3094318</td>\n",
       "      <td>2022</td>\n",
       "      <td>52</td>\n",
       "    </tr>\n",
       "    <tr>\n",
       "      <th>3044555</th>\n",
       "      <td>2022</td>\n",
       "      <td>52</td>\n",
       "      <td>1981096</td>\n",
       "      <td>1</td>\n",
       "      <td>10000</td>\n",
       "      <td>2022</td>\n",
       "      <td>52</td>\n",
       "    </tr>\n",
       "    <tr>\n",
       "      <th>3044654</th>\n",
       "      <td>2022</td>\n",
       "      <td>52</td>\n",
       "      <td>2275071</td>\n",
       "      <td>1</td>\n",
       "      <td>625000</td>\n",
       "      <td>2022</td>\n",
       "      <td>52</td>\n",
       "    </tr>\n",
       "    <tr>\n",
       "      <th>3044660</th>\n",
       "      <td>2022</td>\n",
       "      <td>52</td>\n",
       "      <td>1719553</td>\n",
       "      <td>1</td>\n",
       "      <td>2000000</td>\n",
       "      <td>2022</td>\n",
       "      <td>52</td>\n",
       "    </tr>\n",
       "  </tbody>\n",
       "</table>\n",
       "<p>3045214 rows × 7 columns</p>\n",
       "</div>"
      ],
      "text/plain": [
       "         Year_no  Week_no  SenderId  TargetCount   Sum_Amount  year  week\n",
       "4002        2018        1     23518           49    152970000  2018     1\n",
       "4003        2018        1     40514            1    149998000  2018     1\n",
       "114542      2018        1    254280            1  15462983204  2018     1\n",
       "119866      2018        1    255349            1      3198580  2018     1\n",
       "141521      2018        1     22484            1      5724049  2018     1\n",
       "...          ...      ...       ...          ...          ...   ...   ...\n",
       "3044363     2022       52   1486087            1      1933597  2022    52\n",
       "3044525     2022       52   2309860            1      3094318  2022    52\n",
       "3044555     2022       52   1981096            1        10000  2022    52\n",
       "3044654     2022       52   2275071            1       625000  2022    52\n",
       "3044660     2022       52   1719553            1      2000000  2022    52\n",
       "\n",
       "[3045214 rows x 7 columns]"
      ]
     },
     "execution_count": 24,
     "metadata": {},
     "output_type": "execute_result"
    }
   ],
   "source": [
    "final"
   ]
  },
  {
   "cell_type": "code",
   "execution_count": 26,
   "metadata": {},
   "outputs": [
    {
     "data": {
      "text/plain": [
       "<AxesSubplot: xlabel='date'>"
      ]
     },
     "execution_count": 26,
     "metadata": {},
     "output_type": "execute_result"
    },
    {
     "data": {
      "image/png": "[encoded data removed]",
      "text/plain": [
       "<Figure size 640x480 with 1 Axes>"
      ]
     },
     "metadata": {},
     "output_type": "display_data"
    }
   ],
   "source": [
    "# Determine the date\n",
    "final['date'] = pd.to_datetime(final.assign(day=1, month=1)[['year', 'month', 'day']])+pd.to_timedelta(final.week*7, unit='days')\n",
    "\n",
    "# Plot\n",
    "fig, ax = plt.subplots()\n",
    "final.plot(x='date', y='TargetCount', ax=ax)"
   ]
  },
  {
   "cell_type": "code",
   "execution_count": null,
   "metadata": {},
   "outputs": [],
   "source": []
  }
 ],
 "metadata": {
  "kernelspec": {
   "display_name": "Python 3.9.6 64-bit",
   "language": "python",
   "name": "python3"
  },
  "language_info": {
   "codemirror_mode": {
    "name": "ipython",
    "version": 3
   },
   "file_extension": ".py",
   "mimetype": "text/x-python",
   "name": "python",
   "nbconvert_exporter": "python",
   "pygments_lexer": "ipython3",
   "version": "3"
  },
  "orig_nbformat": 4,
  "vscode": {
   "interpreter": {
    "hash": "31f2aee4e71d21fbe5cf8b01ff0e069b9275f58929596ceb00d14d90e3e16cd6"
   }
  }
 },
 "nbformat": 4,
 "nbformat_minor": 2
}
